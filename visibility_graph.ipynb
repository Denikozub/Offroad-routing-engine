{
 "cells": [
  {
   "cell_type": "markdown",
   "metadata": {},
   "source": [
    "# Attempt to download maps"
   ]
  },
  {
   "cell_type": "code",
   "execution_count": null,
   "metadata": {},
   "outputs": [],
   "source": [
    "min_long = 37.52408\n",
    "min_lat = 55.70015\n",
    "max_long = 37.54093\n",
    "max_lat = 55.70514\n",
    "addr = \"\\\"https://api.openstreetmap.org/api/0.6/map?bbox=\" \\\n",
    "    + str(min_long)  + ',' + str(min_lat) + ',' + str(max_long) + ',' + str(max_lat) + '\"'\n",
    "\n",
    "!curl -o test_map.osm $addr\n",
    "\n",
    "import shutil\n",
    "import sys\n",
    "!mv test_map.osm data\n",
    "# with open('data/test_map.osm', encoding='utf-8') as file:\n",
    "#     shutil.copyfileobj(file, sys.stdout)"
   ]
  },
  {
   "cell_type": "code",
   "execution_count": null,
   "metadata": {},
   "outputs": [],
   "source": [
    "import codecs\n",
    "import osm2geojson\n",
    "\n",
    "with codecs.open('data/test_map.osm', 'r', encoding='utf-8') as data:\n",
    "    xml = data.read()\n",
    "\n",
    "geojson = osm2geojson.xml2geojson(xml, filter_used_refs=False, log_level='INFO')\n",
    "\n",
    "gp.read_file(geojson)"
   ]
  },
  {
   "cell_type": "markdown",
   "metadata": {},
   "source": [
    "[Parts of the world](http://download.geofabrik.de/)  \n",
    "[Cities](https://download.bbbike.org/osm/bbbike/)  \n",
    "[Choose borders](https://extract.bbbike.org/)  \n",
    "osmnx  \n",
    "[OSM API](https://wiki.openstreetmap.org/wiki/Overpass_API/Overpass_QL) - possible solution"
   ]
  },
  {
   "cell_type": "markdown",
   "metadata": {},
   "source": [
    "# Saving computed data"
   ]
  },
  {
   "cell_type": "code",
   "execution_count": 16,
   "metadata": {
    "scrolled": true
   },
   "outputs": [],
   "source": [
    "%%time\n",
    "from visibility_graph import VisibilityGraph\n",
    "\n",
    "# filename = \"maps/kozlovo_extended.osm.pbf\"\n",
    "# bbox = [36.2, 56.5, 36.7, 57]\n",
    "filename = \"maps/kozlovo.osm.pbf\"\n",
    "bbox = [36.0, 56.45, 36.1, 56.5]\n",
    "\n",
    "map_data = VisibilityGraph()\n",
    "map_data.compute_geometry(filename=filename,\n",
    "                          bbox=bbox,\n",
    "                          epsilon_polygon=0.003,\n",
    "                          epsilon_linestring=0.001,\n",
    "                          bbox_comp=10)\n",
    "\n",
    "# map_data.save_geometry(\"kozlovo_extended_362_565_367_57\")\n",
    "# map_data.save_geometry(\"kozlovo_36_5645_361_565\")"
   ]
  },
  {
   "cell_type": "markdown",
   "metadata": {},
   "source": [
    "# Using precomputed data"
   ]
  },
  {
   "cell_type": "code",
   "execution_count": 1,
   "metadata": {},
   "outputs": [],
   "source": [
    "from visibility_graph import VisibilityGraph\n",
    "\n",
    "map_data = VisibilityGraph()\n",
    "# map_data.load_geometry(\"kozlovo_extended_362_565_367_57\")\n",
    "map_data.load_geometry(\"kozlovo_36_5645_361_565\")"
   ]
  },
  {
   "cell_type": "code",
   "execution_count": 2,
   "metadata": {
    "scrolled": false
   },
   "outputs": [
    {
     "name": "stdout",
     "output_type": "stream",
     "text": [
      "edges:  3389\n",
      "nodes:  283\n",
      "Wall time: 33 s\n"
     ]
    }
   ],
   "source": [
    "%%time\n",
    "from geometry.supporting_convex import *\n",
    "import mplleaflet\n",
    "\n",
    "map_plot=('r', {0: \"royalblue\", 1: \"r\", 2: \"k\"})\n",
    "G, fig = map_data.build_graph(find_pair,\n",
    "                              inside_percent=0,\n",
    "                              graph=True,\n",
    "                              map_plot=None)\n",
    "\n",
    "print('edges: ', G.number_of_edges())\n",
    "print('nodes: ', G.number_of_nodes())\n",
    "# mplleaflet.display(fig=fig)\n",
    "\n",
    "# no need to fix overlay of edges (2-way paths)"
   ]
  },
  {
   "cell_type": "code",
   "execution_count": 2,
   "metadata": {
    "scrolled": false
   },
   "outputs": [
    {
     "name": "stdout",
     "output_type": "stream",
     "text": [
      "edges:  2848\n",
      "nodes:  288\n",
      "Wall time: 31.1 s\n"
     ]
    }
   ],
   "source": [
    "%%time\n",
    "from geometry.supporting_convex import *\n",
    "import mplleaflet\n",
    "\n",
    "map_plot=('r', {0: \"royalblue\", 1: \"r\", 2: \"k\"})\n",
    "G, fig = map_data.build_graph(find_pair_cutoff,\n",
    "                              inside_percent=0,\n",
    "                              graph=True,\n",
    "                              map_plot=None)\n",
    "\n",
    "print('edges: ', G.number_of_edges())\n",
    "print('nodes: ', G.number_of_nodes())\n",
    "# mplleaflet.display(fig=fig)\n",
    "\n",
    "# no need to fix overlay of edges (2-way paths)"
   ]
  },
  {
   "cell_type": "markdown",
   "metadata": {},
   "source": [
    "# Find incident edges"
   ]
  },
  {
   "cell_type": "code",
   "execution_count": 9,
   "metadata": {},
   "outputs": [],
   "source": [
    "import matplotlib.pyplot as plt\n",
    "from geometry.supporting_convex import *\n",
    "import mplleaflet\n",
    "\n",
    "start = ([36.35, 56.57], None, None, None, None)\n",
    "incidents = map_data.incident_vertices(start, find_pair_cutoff)\n",
    "fig = plt.figure()\n",
    "plt.scatter(start[0][0], start[0][1], color='r')\n",
    "for p in incidents:\n",
    "    plt.scatter(p[0][0], p[0][1], color='b')\n",
    "mplleaflet.display(fig=fig)"
   ]
  },
  {
   "cell_type": "markdown",
   "metadata": {},
   "source": [
    "# TODO\n",
    "find pair O(log n), compare speed and keep the best without choise  \n",
    "algorithm documentation to repo, license  \n",
    "fix rare crosses  \n",
    "downloading maps  "
   ]
  }
 ],
 "metadata": {
  "kernelspec": {
   "display_name": "Python 3",
   "language": "python",
   "name": "python3"
  },
  "language_info": {
   "codemirror_mode": {
    "name": "ipython",
    "version": 3
   },
   "file_extension": ".py",
   "mimetype": "text/x-python",
   "name": "python",
   "nbconvert_exporter": "python",
   "pygments_lexer": "ipython3",
   "version": "3.8.10"
  }
 },
 "nbformat": 4,
 "nbformat_minor": 4
}
