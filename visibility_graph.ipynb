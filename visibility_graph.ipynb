{
 "cells": [
  {
   "cell_type": "code",
   "execution_count": 2,
   "metadata": {},
   "outputs": [],
   "source": [
    "from visibility_graph import VisibilityGraph\n",
    "import matplotlib.pyplot as plt\n",
    "import mplleaflet\n",
    "\n",
    "filename = \"maps/kozlovo.osm.pbf\"\n",
    "bbox = [35.9, 56.5, 36.12, 56.6]\n",
    "map_data = VisibilityGraph(filename, bbox)"
   ]
  },
  {
   "cell_type": "code",
   "execution_count": 6,
   "metadata": {},
   "outputs": [],
   "source": [
    "epsilon = 0.003\n",
    "bbox_comp = 25\n",
    "map_data.build_dataframe(epsilon=epsilon, bbox_comp=bbox_comp)"
   ]
  },
  {
   "cell_type": "code",
   "execution_count": 8,
   "metadata": {
    "scrolled": true
   },
   "outputs": [],
   "source": [
    "%%time\n",
    "G, fig = map_data.build_graph(plot=True)\n",
    "print('edges: ', G.number_of_edges())\n",
    "print('nodes: ', G.number_of_nodes())\n",
    "mplleaflet.display(fig=fig)"
   ]
  },
  {
   "cell_type": "markdown",
   "metadata": {},
   "source": [
    "___\n",
    "- fix some crosses\n",
    "- inside poly view_angle comparison\n",
    "- numpy speedup\n",
    "- projected crs speedup"
   ]
  }
 ],
 "metadata": {
  "kernelspec": {
   "display_name": "Python 3",
   "language": "python",
   "name": "python3"
  },
  "language_info": {
   "codemirror_mode": {
    "name": "ipython",
    "version": 3
   },
   "file_extension": ".py",
   "mimetype": "text/x-python",
   "name": "python",
   "nbconvert_exporter": "python",
   "pygments_lexer": "ipython3",
   "version": "3.8.3"
  }
 },
 "nbformat": 4,
 "nbformat_minor": 4
}
