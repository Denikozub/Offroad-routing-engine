{
 "cells": [
  {
   "cell_type": "code",
   "execution_count": 1,
   "metadata": {
    "scrolled": true
   },
   "outputs": [
    {
     "name": "stderr",
     "output_type": "stream",
     "text": [
      "/home/denis/.local/lib/python3.8/site-packages/geopandas/_compat.py:84: UserWarning: The Shapely GEOS version (3.8.0-CAPI-1.13.1 ) is incompatible with the GEOS version PyGEOS was compiled with (3.8.1-CAPI-1.13.3). Conversions between both will be slow.\n",
      "  warnings.warn(\n"
     ]
    },
    {
     "name": "stdout",
     "output_type": "stream",
     "text": [
      "CPU times: user 3.33 s, sys: 168 ms, total: 3.5 s\n",
      "Wall time: 4.12 s\n"
     ]
    }
   ],
   "source": [
    "%%time\n",
    "from visibility_graph import VisibilityGraph\n",
    "\n",
    "# filename = \"maps/kozlovo_extended.osm.pbf\"\n",
    "# bbox = [36.2, 56.5, 36.7, 57]\n",
    "filename = \"maps/kozlovo.osm.pbf\"\n",
    "bbox = [36.0, 56.45, 36.1, 56.5]\n",
    "\n",
    "map_data = VisibilityGraph(filename, bbox)"
   ]
  },
  {
   "cell_type": "code",
   "execution_count": 2,
   "metadata": {},
   "outputs": [
    {
     "name": "stdout",
     "output_type": "stream",
     "text": [
      "CPU times: user 2.13 s, sys: 1.49 ms, total: 2.13 s\n",
      "Wall time: 2.56 s\n"
     ]
    }
   ],
   "source": [
    "%%time\n",
    "\n",
    "epsilon_polygon = 0.003\n",
    "epsilon_linestring = 0.001\n",
    "bbox_comp = 10\n",
    "\n",
    "map_data.build_dataframe(epsilon_polygon=epsilon_polygon,\n",
    "                         epsilon_linestring=epsilon_linestring,\n",
    "                         bbox_comp=bbox_comp)"
   ]
  },
  {
   "cell_type": "code",
   "execution_count": 4,
   "metadata": {
    "scrolled": false
   },
   "outputs": [],
   "source": [
    "%%time\n",
    "from geometry.supporting_convex import *\n",
    "import mplleaflet\n",
    "\n",
    "map_plot=('r', {0: \"royalblue\", 1: \"r\", 2: \"k\"})\n",
    "G, fig = map_data.build_graph(find_pair_cutoff,\n",
    "                              seg_func=\"sweep\",\n",
    "                              add_edges_inside=True,\n",
    "                              inside_percent=0.4,\n",
    "                              graph=False,\n",
    "                              map_plot=map_plot)\n",
    "\n",
    "# print('edges: ', G.number_of_edges())\n",
    "# print('nodes: ', G.number_of_nodes())\n",
    "mplleaflet.display(fig=fig)"
   ]
  },
  {
   "cell_type": "markdown",
   "metadata": {},
   "source": [
    "___\n",
    "find incident edges for A*"
   ]
  },
  {
   "cell_type": "code",
   "execution_count": 10,
   "metadata": {},
   "outputs": [],
   "source": [
    "import matplotlib.pyplot as plt\n",
    "from find_pair import *\n",
    "start = ([36.35, 56.57], None, None, None, None)\n",
    "incidents = map_data.incident_vertices(start, find_pair_cutoff)\n",
    "fig = plt.figure()\n",
    "plt.scatter(start[0][0], start[0][1], color='r')\n",
    "for p in incidents:\n",
    "    plt.scatter(p[0][0], p[0][1], color='b')\n",
    "mplleaflet.display(fig=fig)"
   ]
  },
  {
   "cell_type": "markdown",
   "metadata": {},
   "source": [
    "TODO:   \n",
    "find pair O(log n)  \n",
    "find best speed (pair and seg algos)  \n",
    "algorithms to modules  \n",
    "algorithm documentation to repo  \n",
    "license"
   ]
  }
 ],
 "metadata": {
  "kernelspec": {
   "display_name": "Python 3",
   "language": "python",
   "name": "python3"
  },
  "language_info": {
   "codemirror_mode": {
    "name": "ipython",
    "version": 3
   },
   "file_extension": ".py",
   "mimetype": "text/x-python",
   "name": "python",
   "nbconvert_exporter": "python",
   "pygments_lexer": "ipython3",
   "version": "3.8.5"
  }
 },
 "nbformat": 4,
 "nbformat_minor": 4
}
