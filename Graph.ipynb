{
 "cells": [
  {
   "cell_type": "markdown",
   "metadata": {},
   "source": [
    "___\n",
    "## Attempt to convert osm to geojson failed - how to download maps dynamically?"
   ]
  },
  {
   "cell_type": "code",
   "execution_count": 1,
   "metadata": {},
   "outputs": [],
   "source": [
    "# min_long = 37.52408\n",
    "# min_lat = 55.70015\n",
    "# max_long = 37.54093\n",
    "# max_lat = 55.70514\n",
    "# addr = \"\\\"https://api.openstreetmap.org/api/0.6/map?bbox=\" \\\n",
    "#     + str(min_long)  + ',' + str(min_lat) + ',' + str(max_long) + ',' + str(max_lat) + '\"'\n",
    "\n",
    "# !curl -o test_map.osm $addr\n",
    "\n",
    "# import shutil\n",
    "# import sys\n",
    "# !mv test_map.osm data\n",
    "# # with open('data/test_map.osm', encoding='utf-8') as file:\n",
    "# #     shutil.copyfileobj(file, sys.stdout)"
   ]
  },
  {
   "cell_type": "code",
   "execution_count": 2,
   "metadata": {},
   "outputs": [],
   "source": [
    "# import codecs\n",
    "# import osm2geojson\n",
    "# import geopandas\n",
    "\n",
    "# with codecs.open('data/test_map.osm', 'r', encoding='utf-8') as data:\n",
    "#     xml = data.read()\n",
    "\n",
    "# geojson = osm2geojson.xml2geojson(xml, filter_used_refs=False, log_level='INFO')\n",
    "\n",
    "# gp.read_file(geojson)"
   ]
  },
  {
   "cell_type": "markdown",
   "metadata": {},
   "source": [
    "[Parts of the world](http://download.geofabrik.de/)  \n",
    "[Cities](https://download.bbbike.org/osm/bbbike/)  \n",
    "[Choose borders](https://extract.bbbike.org/)  \n",
    "[OSM API](https://wiki.openstreetmap.org/wiki/Overpass_API/Overpass_QL) - possible solution"
   ]
  },
  {
   "cell_type": "markdown",
   "metadata": {},
   "source": [
    "___\n",
    "## Using predownloaded map"
   ]
  },
  {
   "cell_type": "code",
   "execution_count": 3,
   "metadata": {
    "scrolled": false
   },
   "outputs": [],
   "source": [
    "from parsers.osm_parser import OsmParser\n",
    "\n",
    "filename = \"maps/kozlovo.osm.pbf\"\n",
    "bbox = [35.9, 56.575, 36.12, 56.6]\n",
    "map_data = OsmParser(filename, bbox)"
   ]
  },
  {
   "cell_type": "code",
   "execution_count": 4,
   "metadata": {},
   "outputs": [],
   "source": [
    "map_data.polygons.plot(column='natural', legend=True, figsize=(10,6));"
   ]
  },
  {
   "cell_type": "code",
   "execution_count": 5,
   "metadata": {},
   "outputs": [],
   "source": [
    "if not map_data.multipolygons.empty:\n",
    "    map_data.multipolygons.plot(column='natural', legend=True, figsize=(10,6));"
   ]
  },
  {
   "cell_type": "code",
   "execution_count": 6,
   "metadata": {},
   "outputs": [],
   "source": [
    "if not map_data.multilinestrings.empty:\n",
    "    map_data.multilinestrings.plot(column='natural', legend=True, figsize=(10,6));"
   ]
  },
  {
   "cell_type": "code",
   "execution_count": 4,
   "metadata": {},
   "outputs": [],
   "source": [
    "epsilon = 0.001\n",
    "bbox_comp = 25\n",
    "cv=False\n",
    "polygons, multilinestrings = map_data.build_dataframe(epsilon=epsilon, bbox_comp=bbox_comp, ellipse=False, cv=cv)"
   ]
  },
  {
   "cell_type": "markdown",
   "metadata": {},
   "source": [
    "___\n",
    "## Build a graph"
   ]
  },
  {
   "cell_type": "code",
   "execution_count": 5,
   "metadata": {},
   "outputs": [],
   "source": [
    "from graph import build_graph, find_pair_cutoff, find_pair_array, find_pair_ellipse, find_pair_non_convex\n",
    "import matplotlib.pyplot as plt\n",
    "import mplleaflet"
   ]
  },
  {
   "cell_type": "code",
   "execution_count": 9,
   "metadata": {
    "scrolled": true
   },
   "outputs": [],
   "source": [
    "%%time\n",
    "view_angle = 5\n",
    "G, fig = build_graph(polygons, multilinestrings=multilinestrings, pair_func=find_pair_non_convex, cv=cv,\n",
    "                     plot=True, view_angle=view_angle, point_approx=False)\n",
    "print('edges: ', G.number_of_edges())\n",
    "print('nodes: ', G.number_of_nodes())\n",
    "mplleaflet.display(fig=fig)"
   ]
  },
  {
   "cell_type": "code",
   "execution_count": 10,
   "metadata": {
    "scrolled": true
   },
   "outputs": [],
   "source": [
    "import osmnx as ox\n",
    "ox.plot_graph(G);"
   ]
  },
  {
   "cell_type": "code",
   "execution_count": 11,
   "metadata": {},
   "outputs": [],
   "source": [
    "# from graph import first_point, find_points\n",
    "# view_angle = 5\n",
    "# start = [36.06, 56.585]\n",
    "# view_points = first_point(start, polygons, multilinestrings)\n",
    "# ###\n",
    "# fig = plt.figure()\n",
    "# plt.scatter(start[0], start[1], color='black')\n",
    "# for point in view_points:\n",
    "#     plt.scatter(point[0], point[1], color='red')\n",
    "# mplleaflet.display(fig=fig)\n",
    "# ###\n",
    "# chosen_point = view_points[6]\n",
    "# new_points = find_points(chosen_point, polygons, multilinestrings)\n",
    "# ###\n",
    "# fig = plt.figure()\n",
    "# plt.scatter(chosen_point[0], chosen_point[1], color='black')\n",
    "# # plt.scatter(36.0490333, 56.5753, color='blue')\n",
    "# # plt.scatter(36.0409713, 56.5764058, color='blue')\n",
    "# for point in new_points:\n",
    "#     plt.scatter(point[0], point[1], color='red')\n",
    "# mplleaflet.display(fig=fig)"
   ]
  },
  {
   "cell_type": "markdown",
   "metadata": {},
   "source": [
    "___\n",
    "Problems:\n",
    "- Remove single add_point\n",
    "- Update find_first and find_points\n",
    "- Test with convex\n",
    "- A*\n",
    "___\n",
    "- Additional natural attributes not in dataframe\n",
    "- How to store graph?"
   ]
  }
 ],
 "metadata": {
  "kernelspec": {
   "display_name": "Python 3",
   "language": "python",
   "name": "python3"
  },
  "language_info": {
   "codemirror_mode": {
    "name": "ipython",
    "version": 3
   },
   "file_extension": ".py",
   "mimetype": "text/x-python",
   "name": "python",
   "nbconvert_exporter": "python",
   "pygments_lexer": "ipython3",
   "version": "3.8.5"
  }
 },
 "nbformat": 4,
 "nbformat_minor": 4
}
