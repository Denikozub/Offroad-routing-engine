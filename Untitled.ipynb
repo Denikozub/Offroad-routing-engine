{
 "cells": [
  {
   "cell_type": "code",
   "execution_count": 1,
   "id": "a9b63fe0",
   "metadata": {},
   "outputs": [],
   "source": [
    "from pyrosm import OSM\n",
    "import pandas as pd\n",
    "from shapely.geometry import LineString, box, Polygon, MultiLineString\n",
    "import geopandas as gpd\n",
    "import networkx as nx\n",
    "import osmnx as ox"
   ]
  },
  {
   "cell_type": "code",
   "execution_count": 2,
   "id": "4202ca6e",
   "metadata": {},
   "outputs": [],
   "source": [
    "filename = \"maps/user_area.osm.pbf\"\n",
    "bbox = [34, 59, 34.2, 59.1]"
   ]
  },
  {
   "cell_type": "code",
   "execution_count": 3,
   "id": "5fe7907b",
   "metadata": {},
   "outputs": [],
   "source": [
    "osm = OSM(filename, bbox)"
   ]
  },
  {
   "cell_type": "code",
   "execution_count": 4,
   "id": "1f161ea1",
   "metadata": {},
   "outputs": [],
   "source": [
    "poly = osm.get_natural().geometry"
   ]
  },
  {
   "cell_type": "code",
   "execution_count": 5,
   "id": "8a1814d6",
   "metadata": {},
   "outputs": [],
   "source": [
    "nodes, edges = osm.get_network(nodes=True)\n",
    "nodes = pd.DataFrame(nodes[[\"id\", \"geometry\"]])\n",
    "nodes.geometry = nodes.geometry.apply(lambda x: (x.x, x.y))\n",
    "nodes = nodes.set_index('id').to_dict()['geometry']\n",
    "edges = edges[[\"geometry\", \"u\", \"v\", \"length\"]]"
   ]
  },
  {
   "cell_type": "code",
   "execution_count": null,
   "id": "84cdebbc",
   "metadata": {},
   "outputs": [],
   "source": []
  },
  {
   "cell_type": "code",
   "execution_count": 9,
   "id": "dd7c404d",
   "metadata": {},
   "outputs": [],
   "source": [
    "bounds = edges.geometry.bounds"
   ]
  },
  {
   "cell_type": "code",
   "execution_count": 10,
   "id": "654a0690",
   "metadata": {},
   "outputs": [
    {
     "data": {
      "text/plain": [
       "34.0002244"
      ]
     },
     "execution_count": 10,
     "metadata": {},
     "output_type": "execute_result"
    }
   ],
   "source": [
    "bounds.minx.min()"
   ]
  },
  {
   "cell_type": "code",
   "execution_count": null,
   "id": "6888b480",
   "metadata": {},
   "outputs": [],
   "source": []
  }
 ],
 "metadata": {
  "kernelspec": {
   "display_name": "Python 3 (ipykernel)",
   "language": "python",
   "name": "python3"
  },
  "language_info": {
   "codemirror_mode": {
    "name": "ipython",
    "version": 3
   },
   "file_extension": ".py",
   "mimetype": "text/x-python",
   "name": "python",
   "nbconvert_exporter": "python",
   "pygments_lexer": "ipython3",
   "version": "3.8.12"
  }
 },
 "nbformat": 4,
 "nbformat_minor": 5
}
