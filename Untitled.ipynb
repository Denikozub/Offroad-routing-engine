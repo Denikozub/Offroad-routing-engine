{
 "cells": [
  {
   "cell_type": "code",
   "execution_count": 10,
   "id": "e567a9a8",
   "metadata": {},
   "outputs": [
    {
     "name": "stdout",
     "output_type": "stream",
     "text": [
      "CPU times: total: 2.16 s\n",
      "Wall time: 2.14 s\n"
     ]
    },
    {
     "name": "stderr",
     "output_type": "stream",
     "text": [
      "C:\\Users\\kozub\\anaconda3\\envs\\gis\\lib\\site-packages\\pandas\\core\\dtypes\\cast.py:122: ShapelyDeprecationWarning: The array interface is deprecated and will no longer work in Shapely 2.0. Convert the '.coords' to a numpy array instead.\n",
      "  arr = construct_1d_object_array_from_listlike(values)\n"
     ]
    }
   ],
   "source": [
    "# Edge contraction\n",
    "%%time\n",
    "threshold = 100\n",
    "nodes_to_drop = set()\n",
    "for i in edges.index:\n",
    "    row = edges.loc[i]\n",
    "    if row.u == row.v:\n",
    "        edges.drop(i, inplace=True)\n",
    "    elif row.length < threshold:\n",
    "        edges.u.replace(row.v, row.u, inplace=True)\n",
    "        edges.v.replace(row.v, row.u, inplace=True)\n",
    "        edges.drop(i, inplace=True)\n",
    "        nodes.pop(row.v, None)\n",
    "edges.reset_index(drop=True, inplace=True)\n",
    "edges.geometry = edges.apply(lambda x: LineString((nodes[x.u], nodes[x.v])), axis=1)"
   ]
  },
  {
   "cell_type": "code",
   "execution_count": 13,
   "id": "3fb492df",
   "metadata": {},
   "outputs": [],
   "source": [
    "# MST\n",
    "G = nx.Graph()\n",
    "for _, row in edges.iterrows():\n",
    "    G.add_edge(row.u, row.v, weight=row.length)\n",
    "mst = pd.DataFrame(nx.minimum_spanning_tree(G).edges, columns=['u', 'v'])\n",
    "edges = pd.concat([pd.merge(edges, mst,  how='inner', left_on=['u','v'], right_on = ['u','v']),\n",
    "                   pd.merge(edges, mst,  how='inner', left_on=['u','v'], right_on = ['v','u']) \\\n",
    "                           .drop(columns=['u_x', 'v_x']) \\\n",
    "                           .rename(columns={'u_y': 'u', 'v_y': 'v'})]).reset_index(drop=True)"
   ]
  },
  {
   "cell_type": "code",
   "execution_count": null,
   "id": "58dc0c51",
   "metadata": {},
   "outputs": [],
   "source": []
  }
 ],
 "metadata": {
  "kernelspec": {
   "display_name": "Python 3 (ipykernel)",
   "language": "python",
   "name": "python3"
  },
  "language_info": {
   "codemirror_mode": {
    "name": "ipython",
    "version": 3
   },
   "file_extension": ".py",
   "mimetype": "text/x-python",
   "name": "python",
   "nbconvert_exporter": "python",
   "pygments_lexer": "ipython3",
   "version": "3.8.12"
  }
 },
 "nbformat": 4,
 "nbformat_minor": 5
}
