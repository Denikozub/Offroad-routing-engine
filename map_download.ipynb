{
 "cells": [
  {
   "cell_type": "code",
   "execution_count": 1,
   "metadata": {},
   "outputs": [],
   "source": [
    "min_long = 37.52408\n",
    "min_lat = 55.70015\n",
    "max_long = 37.54093\n",
    "max_lat = 55.70514\n",
    "addr = \"\\\"https://api.openstreetmap.org/api/0.6/map?bbox=\" \\\n",
    "    + str(min_long)  + ',' + str(min_lat) + ',' + str(max_long) + ',' + str(max_lat) + '\"'\n",
    "\n",
    "!curl -o test_map.osm $addr\n",
    "\n",
    "import shutil\n",
    "import sys\n",
    "!mv test_map.osm data\n",
    "# with open('data/test_map.osm', encoding='utf-8') as file:\n",
    "#     shutil.copyfileobj(file, sys.stdout)"
   ]
  },
  {
   "cell_type": "code",
   "execution_count": 2,
   "metadata": {},
   "outputs": [],
   "source": [
    "import codecs\n",
    "import osm2geojson\n",
    "\n",
    "with codecs.open('data/test_map.osm', 'r', encoding='utf-8') as data:\n",
    "    xml = data.read()\n",
    "\n",
    "geojson = osm2geojson.xml2geojson(xml, filter_used_refs=False, log_level='INFO')\n",
    "\n",
    "gp.read_file(geojson)"
   ]
  },
  {
   "cell_type": "markdown",
   "metadata": {},
   "source": [
    "[Parts of the world](http://download.geofabrik.de/)  \n",
    "[Cities](https://download.bbbike.org/osm/bbbike/)  \n",
    "[Choose borders](https://extract.bbbike.org/)  \n",
    "[OSM API](https://wiki.openstreetmap.org/wiki/Overpass_API/Overpass_QL) - possible solution"
   ]
  }
 ],
 "metadata": {
  "kernelspec": {
   "display_name": "Python 3",
   "language": "python",
   "name": "python3"
  },
  "language_info": {
   "codemirror_mode": {
    "name": "ipython",
    "version": 3
   },
   "file_extension": ".py",
   "mimetype": "text/x-python",
   "name": "python",
   "nbconvert_exporter": "python",
   "pygments_lexer": "ipython3",
   "version": "3.8.5"
  }
 },
 "nbformat": 4,
 "nbformat_minor": 4
}
