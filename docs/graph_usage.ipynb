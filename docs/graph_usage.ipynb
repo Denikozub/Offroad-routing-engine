{
 "cells": [
  {
   "cell_type": "code",
   "execution_count": null,
   "metadata": {},
   "outputs": [],
   "source": [
    "!pip install -r ../requirements.txt"
   ]
  },
  {
   "cell_type": "code",
   "execution_count": 1,
   "metadata": {},
   "outputs": [],
   "source": [
    "import sys\n",
    "sys.path.insert(0, \"../\")"
   ]
  },
  {
   "cell_type": "markdown",
   "metadata": {},
   "source": [
    "# Downloading and processing data"
   ]
  },
  {
   "cell_type": "markdown",
   "metadata": {},
   "source": [
    "There are two ways you can obtain OSM data in osm.pbf format:  \n",
    "- Download it yourself: [parts of the world](https://download.geofabrik.de/), [cities](https://download.bbbike.org/osm/bbbike/), [adjustable area](https://extract.bbbike.org/) (via mail), [adjustable area](https://export.hotosm.org/en/v3/) (online), [planet](https://planet.maps.mail.ru/pbf/)\n",
    "- Let the program download it for you"
   ]
  },
  {
   "cell_type": "markdown",
   "metadata": {},
   "source": [
    "If the map is downloaded you can specify the filename:"
   ]
  },
  {
   "cell_type": "code",
   "execution_count": null,
   "metadata": {},
   "outputs": [],
   "source": [
    "from visibility.visibility_graph import VisibilityGraph\n",
    "\n",
    "vgraph = VisibilityGraph()\n",
    "filename = \"../maps/kozlovo.osm.pbf\"\n",
    "bbox = [36.2, 56.5, 36.7, 56.7]\n",
    "vgraph.compute_geometry(bbox=bbox, filename=filename)"
   ]
  },
  {
   "cell_type": "markdown",
   "metadata": {},
   "source": [
    "Or, alternatively, you can only specify the bounding box, and the map will be downloaded automatically ([curl](https://curl.se/) & [osmosis](https://wiki.openstreetmap.org/wiki/Osmosis) required):"
   ]
  },
  {
   "cell_type": "code",
   "execution_count": null,
   "metadata": {},
   "outputs": [],
   "source": [
    "bbox = [34, 59, 34.2, 59.1]\n",
    "vgraph.compute_geometry(bbox=bbox)"
   ]
  },
  {
   "cell_type": "markdown",
   "metadata": {},
   "source": [
    "Data inside this area can be processed using VisibilityGraph with chosen or default parameters.  \n",
    "If not specified, optimal parameters will be computed by the algorithm."
   ]
  },
  {
   "cell_type": "code",
   "execution_count": null,
   "metadata": {},
   "outputs": [],
   "source": [
    "vgraph.prune_geometry(epsilon_polygon=0.003,\n",
    "                       epsilon_linestring=0.001,\n",
    "                       bbox_comp=10)"
   ]
  },
  {
   "cell_type": "markdown",
   "metadata": {},
   "source": [
    "Computed data can also be saved in .h5 file to skip data processing the next time:"
   ]
  },
  {
   "cell_type": "code",
   "execution_count": null,
   "metadata": {},
   "outputs": [],
   "source": [
    "vgraph.save_geometry(\"../maps/user_area.h5\")"
   ]
  },
  {
   "cell_type": "markdown",
   "metadata": {},
   "source": [
    "# Using precomputed data and building visibility graph"
   ]
  },
  {
   "cell_type": "code",
   "execution_count": 2,
   "metadata": {},
   "outputs": [],
   "source": [
    "from visibility.visibility_graph import VisibilityGraph\n",
    "\n",
    "vgraph = VisibilityGraph()\n",
    "vgraph.load_geometry(\"../maps/user_area.h5\")"
   ]
  },
  {
   "cell_type": "code",
   "execution_count": 3,
   "metadata": {},
   "outputs": [],
   "source": [
    "a = vgraph.polygons.geometry"
   ]
  },
  {
   "cell_type": "code",
   "execution_count": 7,
   "metadata": {},
   "outputs": [
    {
     "data": {
      "text/plain": [
       "0    (((34.1773601, 59.0005708), (34.158443, 59.001...\n",
       "1    (((34.0228613, 59.0155847), (34.0388017, 59.00...\n",
       "2    (((34.1773601, 59.0005708), (34.1917453, 59.00...\n",
       "3    (((34.138577, 59.0398371), (34.1413021, 59.044...\n",
       "4    (((34.1255882, 59.0993149), (34.077523, 59.097...\n",
       "5    (((34.1049888, 59.0525599), (34.1128853, 59.04...\n",
       "6    (((34.0228613, 59.0155847), (34.0388017, 59.00...\n",
       "7    (((34.0342482, 59.0001777), (34.0554437, 59.00...\n",
       "8    (((34.0004138, 59.0764101), (34.0141467, 59.07...\n",
       "Name: geometry, dtype: object"
      ]
     },
     "execution_count": 7,
     "metadata": {},
     "output_type": "execute_result"
    }
   ],
   "source": [
    "a"
   ]
  },
  {
   "cell_type": "code",
   "execution_count": 5,
   "metadata": {},
   "outputs": [
    {
     "data": {
      "text/plain": [
       "(((34.1773601, 59.0005708),\n",
       "  (34.158443, 59.0012154),\n",
       "  (34.1270542, 59.0129031),\n",
       "  (34.1161537, 59.0108261),\n",
       "  (34.1194153, 59.0171561),\n",
       "  (34.1495166, 59.0150044),\n",
       "  (34.1502033, 59.0183625),\n",
       "  (34.1378437, 59.0201297),\n",
       "  (34.1272688, 59.0308504),\n",
       "  (34.1354441, 59.0373975),\n",
       "  (34.1404438, 59.0315681),\n",
       "  (34.1556964, 59.0302013),\n",
       "  (34.1732059, 59.0356776),\n",
       "  (34.1989551, 59.0252542),\n",
       "  (34.1917453, 59.0033371),\n",
       "  (34.1773601, 59.0005708)),)"
      ]
     },
     "execution_count": 5,
     "metadata": {},
     "output_type": "execute_result"
    }
   ],
   "source": [
    "a[0]"
   ]
  },
  {
   "cell_type": "code",
   "execution_count": 6,
   "metadata": {},
   "outputs": [
    {
     "data": {
      "text/plain": [
       "(((34.1773601, 59.0005708),\n",
       "  (34.1917453, 59.0033371),\n",
       "  (34.1989551, 59.0252542),\n",
       "  (34.1732059, 59.0356776),\n",
       "  (34.1556964, 59.0302013),\n",
       "  (34.1404438, 59.0315681),\n",
       "  (34.1354441, 59.0373975),\n",
       "  (34.1272688, 59.0308504),\n",
       "  (34.1378437, 59.0201297),\n",
       "  (34.1502033, 59.0183625),\n",
       "  (34.1495166, 59.0150044),\n",
       "  (34.1194153, 59.0171561),\n",
       "  (34.1161537, 59.0108261),\n",
       "  (34.1270542, 59.0129031),\n",
       "  (34.158443, 59.0012154),\n",
       "  (34.1773601, 59.0005708)),)"
      ]
     },
     "execution_count": 6,
     "metadata": {},
     "output_type": "execute_result"
    }
   ],
   "source": [
    "a[2]"
   ]
  },
  {
   "cell_type": "markdown",
   "metadata": {},
   "source": [
    "Visibility graph can be built and (optionally) saved as networkx graph and (optionally) visualised using mplleaflet:"
   ]
  },
  {
   "cell_type": "code",
   "execution_count": null,
   "metadata": {},
   "outputs": [],
   "source": [
    "%%time\n",
    "import mplleaflet\n",
    "\n",
    "map_plot=('r', {0: \"royalblue\", 1: \"r\", 2: \"k\"})\n",
    "G, fig = vgraph.build_graph(inside_percent=0,\n",
    "                            multiprocessing=False,\n",
    "                            graph=True,\n",
    "                            map_plot=map_plot)\n",
    "\n",
    "print('edges: ', G.number_of_edges())\n",
    "print('nodes: ', G.number_of_nodes())\n",
    "mplleaflet.display(fig=fig)"
   ]
  },
  {
   "cell_type": "markdown",
   "metadata": {},
   "source": [
    "VisibilityGraph may also be used to find incident edges for a single point.  \n",
    "This feature is used for pathfinding without graph building:"
   ]
  },
  {
   "cell_type": "code",
   "execution_count": null,
   "metadata": {},
   "outputs": [],
   "source": [
    "import matplotlib.pyplot as plt\n",
    "import mplleaflet\n",
    "\n",
    "start = ((34.02, 59.01), None, None, None, None)\n",
    "incidents = vgraph.incident_vertices(start)\n",
    "\n",
    "fig = plt.figure()\n",
    "plt.scatter(start[0][0], start[0][1], color='r')\n",
    "for p in incidents:\n",
    "    plt.scatter(p[0][0], p[0][1], color='b')\n",
    "mplleaflet.display(fig=fig)"
   ]
  }
 ],
 "metadata": {
  "kernelspec": {
   "display_name": "Python 3 (ipykernel)",
   "language": "python",
   "name": "python3"
  },
  "language_info": {
   "codemirror_mode": {
    "name": "ipython",
    "version": 3
   },
   "file_extension": ".py",
   "mimetype": "text/x-python",
   "name": "python",
   "nbconvert_exporter": "python",
   "pygments_lexer": "ipython3",
   "version": "3.8.8"
  }
 },
 "nbformat": 4,
 "nbformat_minor": 4
}
