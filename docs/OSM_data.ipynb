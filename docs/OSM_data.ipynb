{
 "cells": [
  {
   "cell_type": "markdown",
   "metadata": {},
   "source": [
    "# Data model"
   ]
  },
  {
   "cell_type": "markdown",
   "metadata": {},
   "source": [
    "The OSM world model consists of 3 main elements: __nodes__, __ways__, __relations__. Each of them has its own unique __ID__.\n",
    "- Node represents a point on the map and is given by __coordinates__.\n",
    "- Way can be either a polyline or a polygon, it is specified by a list of ID nodes that define it, and contains information about its properties in __tags__ (key-value pair). We are interested in the [keys](https://wiki.openstreetmap.org/wiki/Map_features): 'barrier', 'building', 'geological', 'military', 'natural', 'highway', 'landuse', 'railway', 'waterway', 'water'.\n",
    "- Relation generally consists of nodes, ways and relations, specified by a list of their IDs, and also contains information about properties in tags. [Multipolygon relation](https://wiki.openstreetmap.org/wiki/Relation:multipolygon#Examples_in_XML) consists of ways, which can be __outer__ and __inner__. In this case, ways must be polygons, but they can be made up of multiple polylines. These polylines are listed in the order of forming the polygon. However, the list of polylines defining one polygon can be interrupted by the list of polylines defining another. At the same time, it is not specified which of the outer polygons each of the inner ones belongs to. Of the key tags of interest, multipolygon relation may contain 'building', 'natural', 'highway', 'landuse', 'waterway'."
   ]
  },
  {
   "cell_type": "markdown",
   "metadata": {},
   "source": [
    "# Storing and parsing data"
   ]
  },
  {
   "cell_type": "markdown",
   "metadata": {},
   "source": [
    "To store and work with OSM data, 2 formats are mainly used: __.pbf (.osm.pbf)__ - binary format and __.xml (.osm)__ - text format.\n",
    "- PBF files weigh less and faster to write and parse. Services for download: [parts of the world](https://download.geofabrik.de/), [cities](https://download.bbbike.org/osm/bbbike/), [adjustable area](https://extract.bbbike.org/) (via mail), [adjustable area](https://export.hotosm.org/en/v3/) (online), [planet](https://planet.maps.mail.ru/pbf/). There are many parsers of this format. In addition to the [mentioned ones](https://wiki.openstreetmap.org/wiki/PBF_Format#See_also) on the OSM website, there is a nice parser for python: [pyrosm](https://pyrosm.readthedocs.io/en/latest/), which solves the problem of relations described above, forming and returning [shapely](https://shapely.readthedocs.io/en/stable/manual.html) geometric objects, and at the same time it runs very quickly. However, it works awfully with custom requests (see appendix). The main problem with this format is that I haven't found a way to download selected area at runtime.\n",
    "- XML files weigh much more and take much longer to parse. However, it is possible to download selected area at runtime using curl and the OSM API (for small areas). Alternatively, you can use the Overpass API (for slightly larger areas). The main problem is that the area of 1 * 1 degree will already take about 150 MB."
   ]
  },
  {
   "cell_type": "code",
   "execution_count": null,
   "metadata": {},
   "outputs": [],
   "source": [
    "bbox = [36.0, 56.45, 36.1, 56.5]\n",
    "addr = '\"https://api.openstreetmap.org/api/0.6/map?bbox=' \\\n",
    "    + str(bbox[0])  + ',' + str(bbox[1]) + ',' + str(bbox[2]) + ',' + str(bbox[3]) + '\"'\n",
    "!curl -o request_map.osm $addr"
   ]
  },
  {
   "cell_type": "code",
   "execution_count": null,
   "metadata": {},
   "outputs": [],
   "source": [
    "bbox = [36.0, 56.45, 36.1, 56.5]\n",
    "addr = '\"http://www.overpass-api.de/api/xapi_meta?*[bbox=' \\\n",
    "    + str(bbox[0])  + ',' + str(bbox[1]) + ',' + str(bbox[2]) + ',' + str(bbox[3]) + ']\"'\n",
    "!curl -g -o request_map.osm $addr"
   ]
  },
  {
   "cell_type": "markdown",
   "metadata": {},
   "source": [
    "It is possible to customize XML parsing using [xml.etree.ElementTree](https://docs.python.org/3/library/xml.etree.elementtree.html). Here I extract all ways with selected keys to a ways dataframe, replacing node IDs with coordinates. Then I extract relations with selected keys to a relations dataframe, replacing way IDs with coordinate lists and dividing into inner and outer ways. Coincidential ways are removed from ways dataframe. __Parsing takes too long for almost any area.__"
   ]
  },
  {
   "cell_type": "code",
   "execution_count": null,
   "metadata": {},
   "outputs": [],
   "source": [
    "import xml.etree.ElementTree as ET\n",
    "from pandas import DataFrame\n",
    "root = ET.parse('request_map.osm').getroot()\n",
    "\n",
    "# find node with id and return its coords\n",
    "def node_coords(ID):\n",
    "    node_info = root.find('node[@id=\"' + ID + '\"]').attrib\n",
    "    return (float(node_info['lat']), float(node_info['lon']))\n",
    "\n",
    "# return tuple of coords of all nodes in a way\n",
    "def way_coords(way):\n",
    "    if way is None:\n",
    "        return None\n",
    "    coords = list()\n",
    "    for node in way.findall('nd'):\n",
    "        coords.append(node_coords(node.attrib['ref']))\n",
    "    return tuple(coords)\n",
    "\n",
    "# extract all ways to a dataframe\n",
    "def process_way():\n",
    "    ways_df = DataFrame(columns=['geometry', 'tag', 'type'])\n",
    "    keys = ('barrier', 'building', 'geological', 'military', 'natural', 'highway', 'landuse', 'railway', 'waterway', 'water')\n",
    "    for key in keys:\n",
    "        ways = root.findall('way/tag[@k=\"' + key + '\"]/..')\n",
    "        for way in ways:\n",
    "            ways_df.loc[way.attrib['id']] = (way_coords(way), key, way.find('tag[@k=\"' + key + '\"]').attrib['v'])\n",
    "    return ways_df\n",
    "\n",
    "# find way with id\n",
    "def find_way(ID):\n",
    "    way = root.find('way[@id=\"' + ID + '\"]')\n",
    "    return way_coords(way)\n",
    "\n",
    "# extract relations and its inner & outer ways from ways\n",
    "def process_relations():\n",
    "    relations_df = DataFrame(columns=['inner', 'outer'])\n",
    "    keys = ('building', 'natural', 'highway', 'landuse', 'waterway')\n",
    "    for key in keys:\n",
    "        relations = root.findall('relation/tag[@k=\"' + key + '\"]/..')\n",
    "        for relation in relations:\n",
    "            relation_id = relation.attrib['id']\n",
    "            relations_df.loc[relation_id] = [[], []]\n",
    "            outer = relation.findall('member[@role=\"outer\"]')\n",
    "            outer = [way.attrib['ref'] for way in outer]\n",
    "            for way in outer:\n",
    "                if way in ways_df.index:\n",
    "                    relations_df.loc[relation_id].outer.append(ways_df.loc[way].geometry)\n",
    "                    ways_df.drop(way, inplace=True)\n",
    "                else:\n",
    "                    relations_df.loc[relation_id].outer.append(find_way(way))\n",
    "            inner = relation.findall('member[@role=\"inner\"]')\n",
    "            inner = [way.attrib['ref'] for way in inner]\n",
    "            for way in inner:\n",
    "                if way in ways_df.index:\n",
    "                    relations_df.loc[relation_id].inner.append(ways_df.loc[way].geometry)\n",
    "                    ways_df.drop(way, inplace=True)\n",
    "                else:\n",
    "                    relations_df.loc[relation_id].outer.append(find_way(way))\n",
    "    return relations_df\n",
    "\n",
    "ways_df = process_way()\n",
    "relations_df = process_relations()"
   ]
  },
  {
   "cell_type": "markdown",
   "metadata": {},
   "source": [
    "# Combination of XML and PBF"
   ]
  },
  {
   "cell_type": "markdown",
   "metadata": {},
   "source": [
    "Since is is preferable to parse PBF files, there is a task of obtaining selected area at runtime. There are 2 solutions:\n",
    "- extraxting a bounding box from a larger PBF file (e.g. part of the world or planet)\n",
    "- downloading an XML file (shown above) and converting it to PBF format  \n",
    "\n",
    "These tasks can be solved using [Osmosis](https://wiki.openstreetmap.org/wiki/Osmosis) and [Osmconvert](https://wiki.openstreetmap.org/wiki/Osmconvert)."
   ]
  },
  {
   "cell_type": "markdown",
   "metadata": {},
   "source": [
    "#### Converting source.osm to target.osm.pbf"
   ]
  },
  {
   "cell_type": "code",
   "execution_count": null,
   "metadata": {},
   "outputs": [],
   "source": [
    "!osmosis --read-xml source.osm --write-pbf target.osm.pbf"
   ]
  },
  {
   "cell_type": "code",
   "execution_count": null,
   "metadata": {},
   "outputs": [],
   "source": [
    "!osmconvert source.osm -o=pbf_map.target.pbf"
   ]
  },
  {
   "cell_type": "markdown",
   "metadata": {},
   "source": [
    "#### Extraxting a bounding box from planet.osm.pbf"
   ]
  },
  {
   "cell_type": "code",
   "execution_count": null,
   "metadata": {},
   "outputs": [],
   "source": [
    "!osmosis --bounding-box top=56.5 left=36.0 bottom=56.45 right=36.1 --write-pbf target.osm.pbf  # NWSE format"
   ]
  },
  {
   "cell_type": "code",
   "execution_count": null,
   "metadata": {},
   "outputs": [],
   "source": [
    "!osmconvert planet.osm.pbf -b=36.0,56.45,36.1,56.5 -o=target.osm.pbf  # WSEN format"
   ]
  },
  {
   "cell_type": "markdown",
   "metadata": {},
   "source": [
    "#### Table of nodes"
   ]
  },
  {
   "cell_type": "code",
   "execution_count": null,
   "metadata": {},
   "outputs": [],
   "source": [
    "# extract a csv table of all node's IDs and coordinates\n",
    "!osmconvert source.osm.pbf --drop-ways --drop-relations --csv=\"@id @lon @lat\" --csv-headline -o=nodes.csv"
   ]
  },
  {
   "cell_type": "markdown",
   "metadata": {},
   "source": [
    "#### Filtering tags"
   ]
  },
  {
   "cell_type": "markdown",
   "metadata": {},
   "source": [
    "Tag filtering can be extremely useful to speedup parsing"
   ]
  },
  {
   "cell_type": "code",
   "execution_count": null,
   "metadata": {},
   "outputs": [],
   "source": [
    "# extract natural, landuse, highway relations and only their ways and nodes\n",
    "!osmosis --read-pbf source.osm.pbf --tf accept-relations natural=* landuse=* highway=* --used-way --used node --write-pbf target1.osm.pbf\n",
    "\n",
    "# extract natural, landuse, highway ways and only their nodes\n",
    "!osmosis --read-pbf source.osm.pbf --way-key keyList=\"natural,landuse,highway\" --used node --write-pbf target2.osm.pbf\n",
    "\n",
    "# merge 2 files\n",
    "!osmosis --read-pbf target1.osm.pbf --read-pbf target2.osm.pbf --merge --write-pbf target.osm.pbf"
   ]
  },
  {
   "cell_type": "code",
   "execution_count": null,
   "metadata": {},
   "outputs": [],
   "source": [
    "# extract relations and ways except boundary, place, public_trancport, route and only their nodes\n",
    "!osmosis --read-pbf source.osm.pbf --tf reject-ways boundary=* place=* public_trancport=* route=* --used node --write-pbf target.osm.pbf"
   ]
  },
  {
   "cell_type": "markdown",
   "metadata": {},
   "source": [
    "Filtering can also be done using [Osmfilter](https://wiki.openstreetmap.org/wiki/Osmfilter), which may well be even faster. All these tasks and even more can be accomplished using [Overpass API](https://wiki.openstreetmap.org/wiki/Overpass_API). Python package [OSMPythonTools](https://github.com/mocnik-science/osm-python-tools) provides easy access to Overpass API ([examples](https://github.com/mocnik-science/osm-python-tools/blob/master/docs/overpass.md)) and OSM API."
   ]
  },
  {
   "cell_type": "markdown",
   "metadata": {},
   "source": [
    "# Appendix"
   ]
  },
  {
   "cell_type": "markdown",
   "metadata": {},
   "source": [
    "This is the custom filter that I was trying to use with pyrosm:"
   ]
  },
  {
   "cell_type": "code",
   "execution_count": null,
   "metadata": {},
   "outputs": [],
   "source": [
    "custom_filter = {'highway' : ['motorway', 'trunk', 'primary', 'secondary', 'tertiary', \\\n",
    "                              'unclassified', 'track', 'road', 'footway', 'path'], \\\n",
    "                 'railway' : ['light_rail', 'rail'], \\\n",
    "                 'natural' : ['wood', 'scrub', 'grassland', 'sand', 'mud', 'wetland', \\\n",
    "                              'water', 'bay', 'beach', 'glacier', 'peninsula', 'dune'],\n",
    "                 'landuse' : ['construction', 'industrial', 'residential', 'farmland', \\\n",
    "                              'allotments', 'forest', 'farmyard', 'orchard', 'meadow', \\\n",
    "                              'brownfield', 'grass', 'greenfield', 'greenhouse_horticulture', \\\n",
    "                              'landfill', 'military', 'quarry', 'railway', 'village_green'],\n",
    "                 'barrier' : ['cable_barrier', 'fence', 'wall'], 'military' : ['danger_area'],\n",
    "                 'waterway' : True,\n",
    "                 'water' : True,\n",
    "                 'geological' : True}\n",
    "pois = osm.get_pois(custom_filter=custom_filter)"
   ]
  },
  {
   "cell_type": "markdown",
   "metadata": {},
   "source": [
    "First, it turned out that pyrosm would tramsform some polygons to multilinestrings for some reason. I came up with a solution: transforming back natural & landuse & water multilinestrings to polygons. Second, the more objects there are on the map, the less the number of polygons was! Afterall I could not succeed with custom requests, so I returned back to get_natural, get_landuse method."
   ]
  }
 ],
 "metadata": {
  "kernelspec": {
   "display_name": "Python 3",
   "language": "python",
   "name": "python3"
  },
  "language_info": {
   "codemirror_mode": {
    "name": "ipython",
    "version": 3
   },
   "file_extension": ".py",
   "mimetype": "text/x-python",
   "name": "python",
   "nbconvert_exporter": "python",
   "pygments_lexer": "ipython3",
   "version": "3.8.5"
  }
 },
 "nbformat": 4,
 "nbformat_minor": 5
}
