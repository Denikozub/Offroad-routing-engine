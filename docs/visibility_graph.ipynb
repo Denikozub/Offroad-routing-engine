{
 "cells": [
  {
   "cell_type": "markdown",
   "metadata": {},
   "source": [
    "# Downloading and processing data"
   ]
  },
  {
   "cell_type": "markdown",
   "metadata": {},
   "source": [
    "You need to download data in osm.pbf format:  \n",
    "[Parts of the world](http://download.geofabrik.de/)  \n",
    "[Cities](https://download.bbbike.org/osm/bbbike/)  \n",
    "[Choose borders](https://extract.bbbike.org/)  "
   ]
  },
  {
   "cell_type": "markdown",
   "metadata": {},
   "source": [
    "After file is downloaded, you can choose any bbox inside downloaded area:  \n",
    "(bbox is set in format min_lon, min_lat, max_lon, max_lat)"
   ]
  },
  {
   "cell_type": "code",
   "execution_count": null,
   "metadata": {},
   "outputs": [],
   "source": [
    "from visibility_graph import VisibilityGraph\n",
    "\n",
    "filename = \"../maps/kozlovo.osm.pbf\"\n",
    "bbox = [36.0, 56.45, 36.1, 56.5]\n",
    "map_data = VisibilityGraph()\n",
    "map_data.compute_geometry(filename=filename, bbox=bbox)"
   ]
  },
  {
   "cell_type": "markdown",
   "metadata": {},
   "source": [
    "Data inside this area can be processed using VisibilityGraph with chosen parameters:\n",
    "* Ramer-Douglas-Peucker algorithm parameters for polygons and linestrings\n",
    "* bbox_comp parameter to get rid of small polygons"
   ]
  },
  {
   "cell_type": "code",
   "execution_count": null,
   "metadata": {},
   "outputs": [],
   "source": [
    "map_data.build_dataframe(epsilon_polygon=0.003,\n",
    "                         epsilon_linestring=0.001,\n",
    "                         bbox_comp=10)"
   ]
  },
  {
   "cell_type": "markdown",
   "metadata": {},
   "source": [
    "note: compute_geometry method requires geopandas to be installed, which might be problematic on Windows"
   ]
  },
  {
   "cell_type": "markdown",
   "metadata": {},
   "source": [
    "Computed data can be saved in .h5 file to skip data processing the other time:"
   ]
  },
  {
   "cell_type": "code",
   "execution_count": null,
   "metadata": {},
   "outputs": [],
   "source": [
    "map_data.save_geometry(\"../maps/kozlovo_36_5645_361_565.h5\")"
   ]
  },
  {
   "cell_type": "markdown",
   "metadata": {},
   "source": [
    "TODO: [OSM API](https://wiki.openstreetmap.org/wiki/Overpass_API) and [networkx](https://osmnx.readthedocs.io/en/stable/) may help download maps dynamically"
   ]
  },
  {
   "cell_type": "markdown",
   "metadata": {},
   "source": [
    "# Using precomputed data and building visibility graph"
   ]
  },
  {
   "cell_type": "code",
   "execution_count": null,
   "metadata": {},
   "outputs": [],
   "source": [
    "from visibility_graph import VisibilityGraph\n",
    "\n",
    "map_data = VisibilityGraph()\n",
    "map_data.load_geometry(\"../maps/kozlovo_36_5645_361_565.h5\")"
   ]
  },
  {
   "cell_type": "markdown",
   "metadata": {},
   "source": [
    "Visibility graph can be built and (optionally) saved as networkx graph and (optionally) visualised using mplleaflet\n",
    "* inside_percent: float parameter setting the probability of an inner edge to be added (from 0 to 1)  \n",
    "* graph: bool parameter indicating whether to build a networkx graph  \n",
    "* None or iterable of 2 elements: colors to plot visibility graph  \n",
    "    0 element: color to plot polygons  \n",
    "    1 element: dict of 3 elements: colors to plot edges  \n",
    "        0: edges between objects\n",
    "        1: edges inside polygon\n",
    "        2: road edges"
   ]
  },
  {
   "cell_type": "code",
   "execution_count": 2,
   "metadata": {
    "scrolled": true
   },
   "outputs": [
    {
     "name": "stdout",
     "output_type": "stream",
     "text": [
      "edges:  2852\n",
      "nodes:  286\n",
      "Wall time: 32.5 s\n"
     ]
    }
   ],
   "source": [
    "%%time\n",
    "# import mplleaflet\n",
    "\n",
    "map_plot=('r', {0: \"royalblue\", 1: \"r\", 2: \"k\"})\n",
    "G, fig = map_data.build_graph(inside_percent=0,\n",
    "                              graph=True,\n",
    "                              map_plot=None)\n",
    "\n",
    "print('edges: ', G.number_of_edges())\n",
    "print('nodes: ', G.number_of_nodes())\n",
    "# mplleaflet.display(fig=fig)"
   ]
  },
  {
   "cell_type": "markdown",
   "metadata": {},
   "source": [
    "note: using mplleaflet may be problematic on Windows"
   ]
  },
  {
   "cell_type": "markdown",
   "metadata": {},
   "source": [
    "VisibilityGraph may alse be used to find incident edges for a single point  \n",
    "this feature will be used for pathfinding without graph building"
   ]
  },
  {
   "cell_type": "code",
   "execution_count": null,
   "metadata": {},
   "outputs": [],
   "source": [
    "import matplotlib.pyplot as plt\n",
    "import mplleaflet\n",
    "\n",
    "start = ([36.35, 56.57], None, None, None, None)\n",
    "incidents = map_data.incident_vertices(start)\n",
    "\n",
    "fig = plt.figure()\n",
    "plt.scatter(start[0][0], start[0][1], color='r')\n",
    "for p in incidents:\n",
    "    plt.scatter(p[0][0], p[0][1], color='b')\n",
    "mplleaflet.display(fig=fig)"
   ]
  },
  {
   "cell_type": "markdown",
   "metadata": {},
   "source": [
    "TODO:  \n",
    "algorithm documentation, license  \n",
    "fix rare crosses  \n",
    "fix roads  "
   ]
  }
 ],
 "metadata": {
  "kernelspec": {
   "display_name": "Python 3",
   "language": "python",
   "name": "python3"
  },
  "language_info": {
   "codemirror_mode": {
    "name": "ipython",
    "version": 3
   },
   "file_extension": ".py",
   "mimetype": "text/x-python",
   "name": "python",
   "nbconvert_exporter": "python",
   "pygments_lexer": "ipython3",
   "version": "3.8.10"
  }
 },
 "nbformat": 4,
 "nbformat_minor": 4
}
