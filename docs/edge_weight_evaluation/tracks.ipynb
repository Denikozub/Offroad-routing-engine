{
 "cells": [
  {
   "cell_type": "code",
   "execution_count": 1,
   "id": "5edc5d71",
   "metadata": {},
   "outputs": [],
   "source": [
    "from os import listdir\n",
    "from os.path import isfile, join\n",
    "\n",
    "import geopandas as gpd\n",
    "from shapely.geometry import Point\n",
    "import gpxpy\n",
    "from tqdm import tqdm"
   ]
  },
  {
   "cell_type": "code",
   "execution_count": 7,
   "id": "daf6655e",
   "metadata": {},
   "outputs": [
    {
     "name": "stderr",
     "output_type": "stream",
     "text": [
      "100%|████████████████████████████████████████████████████████████████████████████████████| 8/8 [00:24<00:00,  3.02s/it]\n"
     ]
    }
   ],
   "source": [
    "folder = r'.'\n",
    "tracks = list()\n",
    "\n",
    "for file in tqdm(listdir(folder)):\n",
    "    track_ = list()\n",
    "    if not isfile(join(folder, file)) or file[-4:] != '.gpx':\n",
    "        continue\n",
    "    gpx_file = open(join(folder, file), 'r')\n",
    "    gpx = gpxpy.parse(gpx_file)\n",
    "\n",
    "    for track in gpx.tracks:\n",
    "        for segment in track.segments:\n",
    "            for point in segment.points:\n",
    "                track_.append((point.speed, Point([point.longitude, point.latitude])))\n",
    "    tracks.append(track_)"
   ]
  },
  {
   "cell_type": "code",
   "execution_count": 40,
   "id": "f9b6ad01",
   "metadata": {},
   "outputs": [],
   "source": [
    "def add_dict(init, new):\n",
    "    for key, val in new.items():\n",
    "        if key not in init:\n",
    "            init[key] = val\n",
    "        elif isinstance(init[key], list):\n",
    "            init[key].append(val)\n",
    "        else:\n",
    "            init[key] = [init[key], val]\n",
    "\n",
    "def mean_dict(src):\n",
    "    new = src.copy()\n",
    "    for key, val in new.items():\n",
    "        if isinstance(val, list):\n",
    "            new[key] = sum(val) / len(val)\n",
    "    return new"
   ]
  },
  {
   "cell_type": "code",
   "execution_count": 38,
   "id": "62a589f8",
   "metadata": {},
   "outputs": [],
   "source": [
    "from offroad_routing import Geometry\n",
    "\n",
    "tag_values = dict()\n",
    "for track in tracks:\n",
    "    gdf = gpd.GeoDataFrame(track, columns=['speed', 'geometry'], crs='EPSG:4326')\n",
    "    bounds = gdf.bounds\n",
    "    # lon_min, lat_min, lon_max, lat_max\n",
    "    bounds = bounds.minx.min(), bounds.miny.min(), bounds.maxx.max(), bounds.maxy.max()\n",
    "    osm = Geometry.parse(bbox=bounds)\n",
    "    speed = osm.polygons.sjoin(gdf, how='inner', predicate='contains')[['tag', 'speed']].groupby(['tag']).mean().to_dict()['speed']\n",
    "    add_dict(tag_values, speed)"
   ]
  },
  {
   "cell_type": "code",
   "execution_count": 41,
   "id": "5d7b69de",
   "metadata": {},
   "outputs": [
    {
     "data": {
      "text/plain": [
       "{'1': 1, '2': 2.0, '3': 1}"
      ]
     },
     "execution_count": 41,
     "metadata": {},
     "output_type": "execute_result"
    }
   ],
   "source": [
    "mean_dict(tag_values)"
   ]
  },
  {
   "cell_type": "code",
   "execution_count": null,
   "id": "e85dbeff",
   "metadata": {},
   "outputs": [],
   "source": []
  }
 ],
 "metadata": {
  "kernelspec": {
   "display_name": "Python 3 (ipykernel)",
   "language": "python",
   "name": "python3"
  },
  "language_info": {
   "codemirror_mode": {
    "name": "ipython",
    "version": 3
   },
   "file_extension": ".py",
   "mimetype": "text/x-python",
   "name": "python",
   "nbconvert_exporter": "python",
   "pygments_lexer": "ipython3",
   "version": "3.8.12"
  }
 },
 "nbformat": 4,
 "nbformat_minor": 5
}
