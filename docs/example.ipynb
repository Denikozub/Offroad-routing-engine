{
 "cells": [
  {
   "cell_type": "code",
   "execution_count": null,
   "metadata": {},
   "outputs": [],
   "source": [
    "!pip install -r ../requirements.txt"
   ]
  },
  {
   "cell_type": "code",
   "execution_count": null,
   "metadata": {},
   "outputs": [],
   "source": [
    "import sys\n",
    "sys.path.insert(0, \"../\")"
   ]
  },
  {
   "cell_type": "markdown",
   "metadata": {},
   "source": [
    "# Downloading and processing data"
   ]
  },
  {
   "cell_type": "markdown",
   "metadata": {},
   "source": [
    "There are two ways you can obtain OSM data in osm.pbf format:  \n",
    "- Download it yourself: [parts of the world](https://download.geofabrik.de/), [cities](https://download.bbbike.org/osm/bbbike/), [adjustable area](https://extract.bbbike.org/) (via mail), [adjustable area](https://export.hotosm.org/en/v3/) (online), [planet](https://planet.maps.mail.ru/pbf/)\n",
    "- Let the program get the job done for you"
   ]
  },
  {
   "cell_type": "markdown",
   "metadata": {},
   "source": [
    "Whether the map is downloaded or not, you can choose any bounding box to work with:"
   ]
  },
  {
   "cell_type": "code",
   "execution_count": null,
   "metadata": {},
   "outputs": [],
   "source": [
    "from visibility_graph import VisibilityGraph\n",
    "\n",
    "filename = '../maps/kozlovo.osm.pbf'\n",
    "bbox = [36, 56.45, 36.1, 56.5]\n",
    "map_data = VisibilityGraph()\n",
    "map_data.compute_geometry(bbox=bbox, filename=filename)"
   ]
  },
  {
   "cell_type": "markdown",
   "metadata": {},
   "source": [
    "Data inside this area can be processed using VisibilityGraph with chosen or default parameters.  \n",
    "If not specified, optimal parameters will be computed by the algorithm."
   ]
  },
  {
   "cell_type": "code",
   "execution_count": null,
   "metadata": {},
   "outputs": [],
   "source": [
    "map_data.build_dataframe(epsilon_polygon=0.003,\n",
    "                         epsilon_linestring=0.001,\n",
    "                         bbox_comp=10)"
   ]
  },
  {
   "cell_type": "markdown",
   "metadata": {},
   "source": [
    "Computed data can also be saved in .h5 file to skip data processing the next time:"
   ]
  },
  {
   "cell_type": "code",
   "execution_count": null,
   "metadata": {},
   "outputs": [],
   "source": [
    "map_data.save_geometry(\"../maps/kozlovo_36_5645_361_565.h5\")"
   ]
  },
  {
   "cell_type": "markdown",
   "metadata": {},
   "source": [
    "# Using precomputed data and building visibility graph"
   ]
  },
  {
   "cell_type": "code",
   "execution_count": null,
   "metadata": {},
   "outputs": [],
   "source": [
    "from visibility_graph import VisibilityGraph\n",
    "\n",
    "map_data = VisibilityGraph()\n",
    "map_data.load_geometry(\"../maps/kozlovo_extended_362_565_367_57.h5\")"
   ]
  },
  {
   "cell_type": "markdown",
   "metadata": {},
   "source": [
    "Visibility graph can be built and (optionally) saved as networkx graph and (optionally) visualised using mplleaflet:"
   ]
  },
  {
   "cell_type": "code",
   "execution_count": null,
   "metadata": {},
   "outputs": [],
   "source": [
    "%%time\n",
    "import mplleaflet\n",
    "\n",
    "map_plot=('r', {0: \"royalblue\", 1: \"r\", 2: \"k\"})\n",
    "G, fig = map_data.build_graph(inside_percent=0.4,\n",
    "                              graph=True,\n",
    "                              map_plot=map_plot)\n",
    "\n",
    "print('edges: ', G.number_of_edges())\n",
    "print('nodes: ', G.number_of_nodes())\n",
    "mplleaflet.display(fig=fig)"
   ]
  },
  {
   "cell_type": "markdown",
   "metadata": {},
   "source": [
    "note: using mplleaflet may be problematic on Windows"
   ]
  },
  {
   "cell_type": "markdown",
   "metadata": {},
   "source": [
    "VisibilityGraph may also be used to find incident edges for a single point.  \n",
    "This feature is used for pathfinding without graph building:"
   ]
  },
  {
   "cell_type": "code",
   "execution_count": null,
   "metadata": {},
   "outputs": [],
   "source": [
    "import matplotlib.pyplot as plt\n",
    "import mplleaflet\n",
    "\n",
    "start = ([36.35, 56.57], None, None, None, None)\n",
    "incidents = map_data.incident_vertices(start)\n",
    "\n",
    "fig = plt.figure()\n",
    "plt.scatter(start[0][0], start[0][1], color='r')\n",
    "for p in incidents:\n",
    "    plt.scatter(p[0][0], p[0][1], color='b')\n",
    "mplleaflet.display(fig=fig)"
   ]
  }
 ],
 "metadata": {
  "kernelspec": {
   "display_name": "Python 3",
   "language": "python",
   "name": "python3"
  },
  "language_info": {
   "codemirror_mode": {
    "name": "ipython",
    "version": 3
   },
   "file_extension": ".py",
   "mimetype": "text/x-python",
   "name": "python",
   "nbconvert_exporter": "python",
   "pygments_lexer": "ipython3",
   "version": "3.8.5"
  }
 },
 "nbformat": 4,
 "nbformat_minor": 4
}
