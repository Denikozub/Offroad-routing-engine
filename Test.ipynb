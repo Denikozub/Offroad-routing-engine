{
 "cells": [
  {
   "cell_type": "code",
   "execution_count": 1,
   "id": "48dacdd6",
   "metadata": {
    "scrolled": false
   },
   "outputs": [
    {
     "name": "stderr",
     "output_type": "stream",
     "text": [
      "  % Total    % Received % Xferd  Average Speed   Time    Time     Time  Current\n",
      "                                 Dload  Upload   Total   Spent    Left  Speed\n",
      "\n",
      "  0     0    0     0    0     0      0      0 --:--:-- --:--:-- --:--:--     0\n",
      "  0     0    0     0    0     0      0      0 --:--:-- --:--:-- --:--:--     0\n",
      "100 1925k    0 1925k    0     0  1925k      0 --:--:--  0:00:01 --:--:-- 1599k\n",
      "100 2966k    0 2966k    0     0  2966k      0 --:--:--  0:00:01 --:--:-- 1977k\n"
     ]
    }
   ],
   "source": [
    "bbox = [36.0, 56.45, 36.1, 56.5]\n",
    "addr = \"\\\"https://api.openstreetmap.org/api/0.6/map?bbox=\" \\\n",
    "    + str(bbox[0])  + ',' + str(bbox[1]) + ',' + str(bbox[2]) + ',' + str(bbox[3]) + '\"'\n",
    "!curl -o request_map.osm $addr"
   ]
  },
  {
   "cell_type": "markdown",
   "id": "00f26ad6",
   "metadata": {},
   "source": [
    "___"
   ]
  },
  {
   "cell_type": "code",
   "execution_count": 1,
   "id": "fc5621f1",
   "metadata": {},
   "outputs": [],
   "source": [
    "import xml.etree.ElementTree as ET"
   ]
  },
  {
   "cell_type": "code",
   "execution_count": 2,
   "id": "9f1e8522",
   "metadata": {},
   "outputs": [],
   "source": [
    "root = ET.parse('request_map.osm').getroot()"
   ]
  },
  {
   "cell_type": "code",
   "execution_count": 3,
   "id": "73bbb706",
   "metadata": {},
   "outputs": [],
   "source": [
    "from pandas import DataFrame"
   ]
  },
  {
   "cell_type": "code",
   "execution_count": 63,
   "id": "f798759a",
   "metadata": {},
   "outputs": [
    {
     "name": "stdout",
     "output_type": "stream",
     "text": [
      "Wall time: 1min 4s\n"
     ]
    }
   ],
   "source": [
    "%%time\n",
    "points = DataFrame(columns=['geometry'])\n",
    "for node in root.iter('node'):\n",
    "    node_info = node.attrib\n",
    "    # node_id = node_info['id']\n",
    "    node_coords = (float(node_info['lat']), float(node_info['lon']))\n",
    "    points.loc[node_info['id']] = [node_coords]  # , root.findall('way//nd[@ref=\"' + node_id + '\"]/..')"
   ]
  },
  {
   "cell_type": "code",
   "execution_count": 5,
   "id": "3203b0e6",
   "metadata": {},
   "outputs": [
    {
     "name": "stdout",
     "output_type": "stream",
     "text": [
      "Wall time: 9min 34s\n"
     ]
    }
   ],
   "source": [
    "%%time\n",
    "points = DataFrame(columns=['geometry', 'ways'])\n",
    "for node in root.iter('node'):\n",
    "    node_info = node.attrib\n",
    "    node_id = node_info['id']\n",
    "    node_coords = (float(node_info['lat']), float(node_info['lon']))\n",
    "    points.loc[node_id] = node_coords , root.findall('way//nd[@ref=\"' + node_id + '\"]/..')"
   ]
  },
  {
   "cell_type": "code",
   "execution_count": 29,
   "id": "df04508d",
   "metadata": {},
   "outputs": [],
   "source": [
    "ways = DataFrame(columns=['geometry'])\n",
    "for way in root.iter('way'):\n",
    "    # way_id = way.attrib['id']\n",
    "    ways.loc[way.attrib['id']] = [[node.attrib['ref'] for node in way.findall('nd')]]  # , root.findall('relation//member[@ref=\"' + way_id + '\"]/..')"
   ]
  },
  {
   "cell_type": "markdown",
   "id": "5420525c",
   "metadata": {},
   "source": [
    "___"
   ]
  },
  {
   "cell_type": "code",
   "execution_count": 4,
   "id": "6967c42e",
   "metadata": {},
   "outputs": [],
   "source": [
    "# find node with id and return its coords\n",
    "def node_coords(ID):\n",
    "    node_info = root.find('node[@id=\"' + ID + '\"]').attrib\n",
    "    return (float(node_info['lat']), float(node_info['lon']))"
   ]
  },
  {
   "cell_type": "code",
   "execution_count": 5,
   "id": "7f82e1fb",
   "metadata": {},
   "outputs": [],
   "source": [
    "# return tuple of coords of all nodes in a way\n",
    "def way_coords(way):\n",
    "    coords = list()\n",
    "    for node in way.findall('nd'):\n",
    "        coords.append(node_coords(node.attrib['ref']))\n",
    "    return tuple(coords)"
   ]
  },
  {
   "cell_type": "code",
   "execution_count": 6,
   "id": "93572828",
   "metadata": {},
   "outputs": [],
   "source": [
    "# extract all ways\n",
    "import pandas as pd\n",
    "def process_way():\n",
    "    ways_df = pd.DataFrame(columns=['geometry', 'tag', 'type', 'multi'])\n",
    "    keys = ('barrier', 'building', 'geological', 'military', 'natural', 'highway', 'landuse', 'railway', 'waterway', 'water')\n",
    "    for key in keys:\n",
    "        ways = root.findall('way/tag[@k=\"' + key + '\"]/..')\n",
    "        for way in ways:\n",
    "            ways_df.loc[way.attrib['id']] = (way_coords(way), key, way.find('tag[@k=\"' + key + '\"]').attrib['v'], False)\n",
    "    return ways_df"
   ]
  },
  {
   "cell_type": "code",
   "execution_count": 7,
   "id": "41b21be2",
   "metadata": {},
   "outputs": [
    {
     "name": "stdout",
     "output_type": "stream",
     "text": [
      "Wall time: 32.1 s\n"
     ]
    }
   ],
   "source": [
    "%%time\n",
    "ways_df = process_way()"
   ]
  },
  {
   "cell_type": "code",
   "execution_count": 68,
   "id": "162a974f",
   "metadata": {},
   "outputs": [
    {
     "data": {
      "text/html": [
       "<div>\n",
       "<style scoped>\n",
       "    .dataframe tbody tr th:only-of-type {\n",
       "        vertical-align: middle;\n",
       "    }\n",
       "\n",
       "    .dataframe tbody tr th {\n",
       "        vertical-align: top;\n",
       "    }\n",
       "\n",
       "    .dataframe thead th {\n",
       "        text-align: right;\n",
       "    }\n",
       "</style>\n",
       "<table border=\"1\" class=\"dataframe\">\n",
       "  <thead>\n",
       "    <tr style=\"text-align: right;\">\n",
       "      <th></th>\n",
       "      <th>geometry</th>\n",
       "      <th>tag</th>\n",
       "      <th>type</th>\n",
       "      <th>multi</th>\n",
       "    </tr>\n",
       "  </thead>\n",
       "  <tbody>\n",
       "    <tr>\n",
       "      <th>56700280</th>\n",
       "      <td>((56.4330779, 35.9870501), (56.4292344, 35.984...</td>\n",
       "      <td>natural</td>\n",
       "      <td>wetland</td>\n",
       "      <td>False</td>\n",
       "    </tr>\n",
       "    <tr>\n",
       "      <th>98992684</th>\n",
       "      <td>((56.4835611, 36.0208295), (56.4831855, 36.021...</td>\n",
       "      <td>natural</td>\n",
       "      <td>water</td>\n",
       "      <td>False</td>\n",
       "    </tr>\n",
       "    <tr>\n",
       "      <th>491945893</th>\n",
       "      <td>((56.4912754, 36.0028195), (56.4911155, 36.002...</td>\n",
       "      <td>natural</td>\n",
       "      <td>wood</td>\n",
       "      <td>False</td>\n",
       "    </tr>\n",
       "    <tr>\n",
       "      <th>492328723</th>\n",
       "      <td>((56.4864893, 36.0584807), (56.4864063, 36.057...</td>\n",
       "      <td>natural</td>\n",
       "      <td>wood</td>\n",
       "      <td>False</td>\n",
       "    </tr>\n",
       "    <tr>\n",
       "      <th>492328724</th>\n",
       "      <td>((56.4774604, 36.0253608), (56.4768916, 36.025...</td>\n",
       "      <td>natural</td>\n",
       "      <td>wood</td>\n",
       "      <td>False</td>\n",
       "    </tr>\n",
       "  </tbody>\n",
       "</table>\n",
       "</div>"
      ],
      "text/plain": [
       "                                                    geometry      tag  \\\n",
       "56700280   ((56.4330779, 35.9870501), (56.4292344, 35.984...  natural   \n",
       "98992684   ((56.4835611, 36.0208295), (56.4831855, 36.021...  natural   \n",
       "491945893  ((56.4912754, 36.0028195), (56.4911155, 36.002...  natural   \n",
       "492328723  ((56.4864893, 36.0584807), (56.4864063, 36.057...  natural   \n",
       "492328724  ((56.4774604, 36.0253608), (56.4768916, 36.025...  natural   \n",
       "\n",
       "              type  multi  \n",
       "56700280   wetland  False  \n",
       "98992684     water  False  \n",
       "491945893     wood  False  \n",
       "492328723     wood  False  \n",
       "492328724     wood  False  "
      ]
     },
     "execution_count": 68,
     "metadata": {},
     "output_type": "execute_result"
    }
   ],
   "source": [
    "ways_df.head()"
   ]
  },
  {
   "cell_type": "markdown",
   "id": "464a273e",
   "metadata": {},
   "source": [
    "___"
   ]
  },
  {
   "cell_type": "code",
   "execution_count": 8,
   "id": "ecd6353a",
   "metadata": {},
   "outputs": [],
   "source": [
    "# find way with id\n",
    "def find_way(ID):\n",
    "    way = root.find('way[@id=\"' + ID + '\"]')\n",
    "    return way_coords(way)"
   ]
  },
  {
   "cell_type": "code",
   "execution_count": 9,
   "id": "d0cf6eda",
   "metadata": {},
   "outputs": [],
   "source": [
    "from math import isclose\n",
    "def is_polygon(ID):\n",
    "    obj = ways_df[ID]\n",
    "    p1, p2 = obj[0], obj[-1]\n",
    "    return isclose(p1[0], p2[0]) and isclose(p1[1], p2[1])"
   ]
  },
  {
   "cell_type": "code",
   "execution_count": 19,
   "id": "62abcbcf",
   "metadata": {},
   "outputs": [
    {
     "name": "stdout",
     "output_type": "stream",
     "text": [
      "[<Element 'member' at 0x000002662E305540>, <Element 'member' at 0x000002662E305590>, <Element 'member' at 0x000002662E3055E0>]\n",
      "[<Element 'member' at 0x000002662E340770>]\n",
      "[<Element 'member' at 0x000002662E340EA0>]\n",
      "[<Element 'member' at 0x000002662E34A180>]\n",
      "[<Element 'member' at 0x000002662E34A3B0>]\n",
      "[<Element 'member' at 0x000002662E340130>]\n",
      "[<Element 'member' at 0x000002662E340450>]\n"
     ]
    }
   ],
   "source": [
    "tags = ('natural', 'landuse')\n",
    "for tag in tags:\n",
    "    relations = root.findall('relation/tag[@k=\"' + tag + '\"]/..')\n",
    "    for relation in relations:\n",
    "        outer = relation.findall('member[@role=\"outer\"]')\n",
    "        outer = [way.attrib['ref'] for way in outer]\n",
    "        if len(outer) == 1:\n",
    "            ways_df[outer[0].attrib['ref']].multi = True\n",
    "        else:\n",
    "            outer = [way for]\n",
    "            for member in outer:\n",
    "                if not is_polygon(member.attrib['ref']):\n",
    "                    ways_df.drop(member.attrib['ref'])"
   ]
  },
  {
   "cell_type": "code",
   "execution_count": null,
   "id": "89976073",
   "metadata": {},
   "outputs": [],
   "source": []
  },
  {
   "cell_type": "code",
   "execution_count": null,
   "id": "0f4b3119",
   "metadata": {},
   "outputs": [],
   "source": []
  },
  {
   "cell_type": "code",
   "execution_count": null,
   "id": "a48820bb",
   "metadata": {},
   "outputs": [],
   "source": []
  },
  {
   "cell_type": "code",
   "execution_count": null,
   "id": "3767a7a6",
   "metadata": {},
   "outputs": [],
   "source": []
  },
  {
   "cell_type": "code",
   "execution_count": 2,
   "id": "20e6ff74",
   "metadata": {},
   "outputs": [],
   "source": [
    "import os\n",
    "os.remove(\"request_map.osm\")"
   ]
  }
 ],
 "metadata": {
  "kernelspec": {
   "display_name": "Python 3",
   "language": "python",
   "name": "python3"
  },
  "language_info": {
   "codemirror_mode": {
    "name": "ipython",
    "version": 3
   },
   "file_extension": ".py",
   "mimetype": "text/x-python",
   "name": "python",
   "nbconvert_exporter": "python",
   "pygments_lexer": "ipython3",
   "version": "3.8.10"
  }
 },
 "nbformat": 4,
 "nbformat_minor": 5
}
