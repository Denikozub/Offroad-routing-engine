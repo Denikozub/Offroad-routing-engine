{
 "cells": [
  {
   "cell_type": "code",
   "execution_count": 1,
   "metadata": {},
   "outputs": [],
   "source": [
    "import sys\n",
    "sys.path.append('..')\n"
   ]
  },
  {
   "cell_type": "code",
   "execution_count": 2,
   "metadata": {},
   "outputs": [],
   "source": [
    "from iterative import Iterative"
   ]
  },
  {
   "cell_type": "code",
   "execution_count": 3,
   "metadata": {},
   "outputs": [],
   "source": [
    "bbox = 'N55bE039'\n",
    "angle_count = 120\n",
    "decline = 0.0001\n",
    "real_wpt = [55.61205, 39.97805]\n",
    "curr = [55.59582, 39.96037]\n",
    "start = [55.59476, 39.95345]\n",
    "curr_type = 0\n",
    "wpt = real_wpt.copy()\n",
    "wpt[0] = float(\"{0:.6f}\".format(wpt[0] - curr[0]))\n",
    "wpt[1] = float(\"{0:.6f}\".format(wpt[1] - curr[1]))\n",
    "start[0] = float(\"{0:.6f}\".format(start[0] - curr[0]))\n",
    "start[1] = float(\"{0:.6f}\".format(start[1] - curr[1]))"
   ]
  },
  {
   "cell_type": "markdown",
   "metadata": {},
   "source": [
    "___\n",
    "## Build DataFrame"
   ]
  },
  {
   "cell_type": "code",
   "execution_count": 4,
   "metadata": {},
   "outputs": [],
   "source": [
    "it = Iterative(bbox, curr, wpt, start, angle_count, curr_type, decline)"
   ]
  },
  {
   "cell_type": "code",
   "execution_count": 5,
   "metadata": {},
   "outputs": [
    {
     "data": {
      "text/html": [
       "<div>\n",
       "<style scoped>\n",
       "    .dataframe tbody tr th:only-of-type {\n",
       "        vertical-align: middle;\n",
       "    }\n",
       "\n",
       "    .dataframe tbody tr th {\n",
       "        vertical-align: top;\n",
       "    }\n",
       "\n",
       "    .dataframe thead th {\n",
       "        text-align: right;\n",
       "    }\n",
       "</style>\n",
       "<table border=\"1\" class=\"dataframe\">\n",
       "  <thead>\n",
       "    <tr style=\"text-align: right;\">\n",
       "      <th></th>\n",
       "      <th>dist_bad</th>\n",
       "      <th>dist_good</th>\n",
       "      <th>angle_wpt</th>\n",
       "      <th>angle_from</th>\n",
       "    </tr>\n",
       "  </thead>\n",
       "  <tbody>\n",
       "    <tr>\n",
       "      <th>0</th>\n",
       "      <td>0.00634228</td>\n",
       "      <td>0.00675949</td>\n",
       "      <td>NaN</td>\n",
       "      <td>NaN</td>\n",
       "    </tr>\n",
       "    <tr>\n",
       "      <th>1</th>\n",
       "      <td>0.00621468</td>\n",
       "      <td>0.00676912</td>\n",
       "      <td>NaN</td>\n",
       "      <td>NaN</td>\n",
       "    </tr>\n",
       "    <tr>\n",
       "      <th>2</th>\n",
       "      <td>0.00609958</td>\n",
       "      <td>0.00675373</td>\n",
       "      <td>NaN</td>\n",
       "      <td>NaN</td>\n",
       "    </tr>\n",
       "    <tr>\n",
       "      <th>3</th>\n",
       "      <td>0.00592101</td>\n",
       "      <td>0.00672317</td>\n",
       "      <td>NaN</td>\n",
       "      <td>NaN</td>\n",
       "    </tr>\n",
       "    <tr>\n",
       "      <th>4</th>\n",
       "      <td>0.00576797</td>\n",
       "      <td>0.00673682</td>\n",
       "      <td>NaN</td>\n",
       "      <td>NaN</td>\n",
       "    </tr>\n",
       "  </tbody>\n",
       "</table>\n",
       "</div>"
      ],
      "text/plain": [
       "     dist_bad   dist_good angle_wpt angle_from\n",
       "0  0.00634228  0.00675949       NaN        NaN\n",
       "1  0.00621468  0.00676912       NaN        NaN\n",
       "2  0.00609958  0.00675373       NaN        NaN\n",
       "3  0.00592101  0.00672317       NaN        NaN\n",
       "4  0.00576797  0.00673682       NaN        NaN"
      ]
     },
     "execution_count": 5,
     "metadata": {},
     "output_type": "execute_result"
    }
   ],
   "source": [
    "df, fig = it.creat_df()\n",
    "df.head()"
   ]
  },
  {
   "cell_type": "code",
   "execution_count": 6,
   "metadata": {
    "scrolled": true
   },
   "outputs": [
    {
     "data": {
      "text/html": [
       "<div>\n",
       "<style scoped>\n",
       "    .dataframe tbody tr th:only-of-type {\n",
       "        vertical-align: middle;\n",
       "    }\n",
       "\n",
       "    .dataframe tbody tr th {\n",
       "        vertical-align: top;\n",
       "    }\n",
       "\n",
       "    .dataframe thead th {\n",
       "        text-align: right;\n",
       "    }\n",
       "</style>\n",
       "<table border=\"1\" class=\"dataframe\">\n",
       "  <thead>\n",
       "    <tr style=\"text-align: right;\">\n",
       "      <th></th>\n",
       "      <th>dist_bad</th>\n",
       "      <th>dist_good</th>\n",
       "      <th>angle_wpt</th>\n",
       "      <th>angle_from</th>\n",
       "    </tr>\n",
       "  </thead>\n",
       "  <tbody>\n",
       "    <tr>\n",
       "      <th>0</th>\n",
       "      <td>63.4228</td>\n",
       "      <td>67.5949</td>\n",
       "      <td>47.4485</td>\n",
       "      <td>98.7088</td>\n",
       "    </tr>\n",
       "    <tr>\n",
       "      <th>1</th>\n",
       "      <td>62.1468</td>\n",
       "      <td>67.6912</td>\n",
       "      <td>44.4485</td>\n",
       "      <td>101.709</td>\n",
       "    </tr>\n",
       "    <tr>\n",
       "      <th>2</th>\n",
       "      <td>60.9958</td>\n",
       "      <td>67.5373</td>\n",
       "      <td>41.4485</td>\n",
       "      <td>104.709</td>\n",
       "    </tr>\n",
       "    <tr>\n",
       "      <th>3</th>\n",
       "      <td>59.2101</td>\n",
       "      <td>67.2317</td>\n",
       "      <td>38.4485</td>\n",
       "      <td>107.709</td>\n",
       "    </tr>\n",
       "    <tr>\n",
       "      <th>4</th>\n",
       "      <td>57.6797</td>\n",
       "      <td>67.3682</td>\n",
       "      <td>35.4485</td>\n",
       "      <td>110.709</td>\n",
       "    </tr>\n",
       "  </tbody>\n",
       "</table>\n",
       "</div>"
      ],
      "text/plain": [
       "  dist_bad dist_good angle_wpt angle_from\n",
       "0  63.4228   67.5949   47.4485    98.7088\n",
       "1  62.1468   67.6912   44.4485    101.709\n",
       "2  60.9958   67.5373   41.4485    104.709\n",
       "3  59.2101   67.2317   38.4485    107.709\n",
       "4  57.6797   67.3682   35.4485    110.709"
      ]
     },
     "execution_count": 6,
     "metadata": {},
     "output_type": "execute_result"
    }
   ],
   "source": [
    "it.fill_df(df)\n",
    "df.head()"
   ]
  },
  {
   "cell_type": "markdown",
   "metadata": {},
   "source": [
    "___\n",
    "## Draw a map"
   ]
  },
  {
   "cell_type": "code",
   "execution_count": 7,
   "metadata": {},
   "outputs": [],
   "source": [
    "it = Iterative(bbox, curr, wpt, start, angle_count, curr_type, decline, True)"
   ]
  },
  {
   "cell_type": "code",
   "execution_count": 1,
   "metadata": {},
   "outputs": [],
   "source": [
    "import mplleaflet\n",
    "df, fig = it.creat_df()\n",
    "mplleaflet.display(fig=fig)"
   ]
  },
  {
   "cell_type": "markdown",
   "metadata": {},
   "source": [
    "![](maps/map.png)"
   ]
  },
  {
   "cell_type": "code",
   "execution_count": 9,
   "metadata": {},
   "outputs": [
    {
     "data": {
      "text/html": [
       "<div>\n",
       "<style scoped>\n",
       "    .dataframe tbody tr th:only-of-type {\n",
       "        vertical-align: middle;\n",
       "    }\n",
       "\n",
       "    .dataframe tbody tr th {\n",
       "        vertical-align: top;\n",
       "    }\n",
       "\n",
       "    .dataframe thead th {\n",
       "        text-align: right;\n",
       "    }\n",
       "</style>\n",
       "<table border=\"1\" class=\"dataframe\">\n",
       "  <thead>\n",
       "    <tr style=\"text-align: right;\">\n",
       "      <th></th>\n",
       "      <th>dist_bad</th>\n",
       "      <th>dist_good</th>\n",
       "      <th>angle_wpt</th>\n",
       "      <th>angle_from</th>\n",
       "    </tr>\n",
       "  </thead>\n",
       "  <tbody>\n",
       "    <tr>\n",
       "      <th>0</th>\n",
       "      <td>63.4228</td>\n",
       "      <td>67.5949</td>\n",
       "      <td>47.4485</td>\n",
       "      <td>98.7088</td>\n",
       "    </tr>\n",
       "    <tr>\n",
       "      <th>1</th>\n",
       "      <td>62.1468</td>\n",
       "      <td>67.6912</td>\n",
       "      <td>44.4485</td>\n",
       "      <td>101.709</td>\n",
       "    </tr>\n",
       "    <tr>\n",
       "      <th>2</th>\n",
       "      <td>60.9958</td>\n",
       "      <td>67.5373</td>\n",
       "      <td>41.4485</td>\n",
       "      <td>104.709</td>\n",
       "    </tr>\n",
       "    <tr>\n",
       "      <th>3</th>\n",
       "      <td>59.2101</td>\n",
       "      <td>67.2317</td>\n",
       "      <td>38.4485</td>\n",
       "      <td>107.709</td>\n",
       "    </tr>\n",
       "    <tr>\n",
       "      <th>4</th>\n",
       "      <td>57.6797</td>\n",
       "      <td>67.3682</td>\n",
       "      <td>35.4485</td>\n",
       "      <td>110.709</td>\n",
       "    </tr>\n",
       "  </tbody>\n",
       "</table>\n",
       "</div>"
      ],
      "text/plain": [
       "  dist_bad dist_good angle_wpt angle_from\n",
       "0  63.4228   67.5949   47.4485    98.7088\n",
       "1  62.1468   67.6912   44.4485    101.709\n",
       "2  60.9958   67.5373   41.4485    104.709\n",
       "3  59.2101   67.2317   38.4485    107.709\n",
       "4  57.6797   67.3682   35.4485    110.709"
      ]
     },
     "execution_count": 9,
     "metadata": {},
     "output_type": "execute_result"
    }
   ],
   "source": [
    "it.fill_df(df)\n",
    "df.head()"
   ]
  }
 ],
 "metadata": {
  "kernelspec": {
   "display_name": "Python 3",
   "language": "python",
   "name": "python3"
  },
  "language_info": {
   "codemirror_mode": {
    "name": "ipython",
    "version": 3
   },
   "file_extension": ".py",
   "mimetype": "text/x-python",
   "name": "python",
   "nbconvert_exporter": "python",
   "pygments_lexer": "ipython3",
   "version": "3.8.3"
  }
 },
 "nbformat": 4,
 "nbformat_minor": 4
}
